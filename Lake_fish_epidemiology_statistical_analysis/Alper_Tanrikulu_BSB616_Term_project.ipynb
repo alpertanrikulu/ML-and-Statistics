{
 "cells": [
  {
   "cell_type": "markdown",
   "id": "105cf394-ffb8-43cd-8d0b-81439945909f",
   "metadata": {},
   "source": [
    "# Alper Tanrıkulu BSB616 Advanced Statistics Term Project \n",
    "## 225023062003"
   ]
  },
  {
   "cell_type": "code",
   "execution_count": 1,
   "id": "2f2620f2-b49d-414b-bf0b-ba54f422ed4e",
   "metadata": {},
   "outputs": [],
   "source": [
    "import pandas as pd\n",
    "import numpy as np\n",
    "import matplotlib.pyplot as plt\n",
    "from sklearn.linear_model import LinearRegression\n",
    "from sklearn.model_selection import train_test_split\n",
    "from sklearn.metrics import mean_squared_error, r2_score\n",
    "import warnings\n",
    "import seaborn as sns\n",
    "import math\n",
    "import scipy.stats as stats\n",
    "warnings.filterwarnings('ignore')"
   ]
  },
  {
   "cell_type": "markdown",
   "id": "6ed38870-8c7f-4cb1-87a2-fe6d971efe3e",
   "metadata": {},
   "source": [
    "# Data Preprocessing\n",
    "\n",
    "The data we will use contains information about the physical characteristics of fish found in \"Kaunas Water Reservoir\" and \"Curonian Lagoon\" lakes. There are also columns containing a lot of information that we will not use in our statistical analysis. For ease of use, the unused columns are removed from the DataFrame."
   ]
  },
  {
   "cell_type": "code",
   "execution_count": 2,
   "id": "daa9beec-8218-4bde-831e-2613133e9c69",
   "metadata": {},
   "outputs": [
    {
     "data": {
      "text/html": [
       "<div>\n",
       "<style scoped>\n",
       "    .dataframe tbody tr th:only-of-type {\n",
       "        vertical-align: middle;\n",
       "    }\n",
       "\n",
       "    .dataframe tbody tr th {\n",
       "        vertical-align: top;\n",
       "    }\n",
       "\n",
       "    .dataframe thead th {\n",
       "        text-align: right;\n",
       "    }\n",
       "</style>\n",
       "<table border=\"1\" class=\"dataframe\">\n",
       "  <thead>\n",
       "    <tr style=\"text-align: right;\">\n",
       "      <th></th>\n",
       "      <th>Water body</th>\n",
       "      <th>Location</th>\n",
       "      <th>Latitude</th>\n",
       "      <th>Longitude</th>\n",
       "      <th>Date</th>\n",
       "      <th>Species_la</th>\n",
       "      <th>Species_en</th>\n",
       "      <th>method</th>\n",
       "      <th>total_length</th>\n",
       "      <th>standard_length</th>\n",
       "      <th>...</th>\n",
       "      <th>gear_type</th>\n",
       "      <th>total_gear_length</th>\n",
       "      <th>total_gear_length_broad</th>\n",
       "      <th>mesh_size</th>\n",
       "      <th>mesh_size_min</th>\n",
       "      <th>mesh_size_max</th>\n",
       "      <th>mesh_size_broad</th>\n",
       "      <th>soak_time</th>\n",
       "      <th>soak_time_broad</th>\n",
       "      <th>depth</th>\n",
       "    </tr>\n",
       "  </thead>\n",
       "  <tbody>\n",
       "    <tr>\n",
       "      <th>0</th>\n",
       "      <td>Kaunas Water Reservoir</td>\n",
       "      <td>Lower</td>\n",
       "      <td>54.858628</td>\n",
       "      <td>24.123667</td>\n",
       "      <td>1973-07-13</td>\n",
       "      <td>Rutilus rutilus</td>\n",
       "      <td>Roach</td>\n",
       "      <td>2</td>\n",
       "      <td>17.0</td>\n",
       "      <td>NaN</td>\n",
       "      <td>...</td>\n",
       "      <td>Gillnet</td>\n",
       "      <td>NaN</td>\n",
       "      <td>very long</td>\n",
       "      <td>NaN</td>\n",
       "      <td>32.0</td>\n",
       "      <td>36.0</td>\n",
       "      <td>full</td>\n",
       "      <td>12.0</td>\n",
       "      <td>long</td>\n",
       "      <td>NaN</td>\n",
       "    </tr>\n",
       "    <tr>\n",
       "      <th>1</th>\n",
       "      <td>Kaunas Water Reservoir</td>\n",
       "      <td>Lower</td>\n",
       "      <td>54.858628</td>\n",
       "      <td>24.123667</td>\n",
       "      <td>1973-07-13</td>\n",
       "      <td>Rutilus rutilus</td>\n",
       "      <td>Roach</td>\n",
       "      <td>2</td>\n",
       "      <td>19.0</td>\n",
       "      <td>NaN</td>\n",
       "      <td>...</td>\n",
       "      <td>Gillnet</td>\n",
       "      <td>NaN</td>\n",
       "      <td>very long</td>\n",
       "      <td>NaN</td>\n",
       "      <td>32.0</td>\n",
       "      <td>36.0</td>\n",
       "      <td>full</td>\n",
       "      <td>12.0</td>\n",
       "      <td>long</td>\n",
       "      <td>NaN</td>\n",
       "    </tr>\n",
       "    <tr>\n",
       "      <th>2</th>\n",
       "      <td>Kaunas Water Reservoir</td>\n",
       "      <td>Lower</td>\n",
       "      <td>54.858628</td>\n",
       "      <td>24.123667</td>\n",
       "      <td>1973-07-13</td>\n",
       "      <td>Rutilus rutilus</td>\n",
       "      <td>Roach</td>\n",
       "      <td>2</td>\n",
       "      <td>20.0</td>\n",
       "      <td>NaN</td>\n",
       "      <td>...</td>\n",
       "      <td>Gillnet</td>\n",
       "      <td>NaN</td>\n",
       "      <td>very long</td>\n",
       "      <td>NaN</td>\n",
       "      <td>32.0</td>\n",
       "      <td>36.0</td>\n",
       "      <td>full</td>\n",
       "      <td>12.0</td>\n",
       "      <td>long</td>\n",
       "      <td>NaN</td>\n",
       "    </tr>\n",
       "    <tr>\n",
       "      <th>3</th>\n",
       "      <td>Kaunas Water Reservoir</td>\n",
       "      <td>Lower</td>\n",
       "      <td>54.858628</td>\n",
       "      <td>24.123667</td>\n",
       "      <td>1973-07-13</td>\n",
       "      <td>Rutilus rutilus</td>\n",
       "      <td>Roach</td>\n",
       "      <td>2</td>\n",
       "      <td>21.0</td>\n",
       "      <td>NaN</td>\n",
       "      <td>...</td>\n",
       "      <td>Gillnet</td>\n",
       "      <td>NaN</td>\n",
       "      <td>very long</td>\n",
       "      <td>NaN</td>\n",
       "      <td>32.0</td>\n",
       "      <td>36.0</td>\n",
       "      <td>full</td>\n",
       "      <td>12.0</td>\n",
       "      <td>long</td>\n",
       "      <td>NaN</td>\n",
       "    </tr>\n",
       "    <tr>\n",
       "      <th>4</th>\n",
       "      <td>Kaunas Water Reservoir</td>\n",
       "      <td>Lower</td>\n",
       "      <td>54.858628</td>\n",
       "      <td>24.123667</td>\n",
       "      <td>1973-07-13</td>\n",
       "      <td>Rutilus rutilus</td>\n",
       "      <td>Roach</td>\n",
       "      <td>2</td>\n",
       "      <td>22.0</td>\n",
       "      <td>NaN</td>\n",
       "      <td>...</td>\n",
       "      <td>Gillnet</td>\n",
       "      <td>NaN</td>\n",
       "      <td>very long</td>\n",
       "      <td>NaN</td>\n",
       "      <td>32.0</td>\n",
       "      <td>36.0</td>\n",
       "      <td>full</td>\n",
       "      <td>12.0</td>\n",
       "      <td>long</td>\n",
       "      <td>NaN</td>\n",
       "    </tr>\n",
       "  </tbody>\n",
       "</table>\n",
       "<p>5 rows × 32 columns</p>\n",
       "</div>"
      ],
      "text/plain": [
       "               Water body Location   Latitude  Longitude        Date  \\\n",
       "0  Kaunas Water Reservoir    Lower  54.858628  24.123667  1973-07-13   \n",
       "1  Kaunas Water Reservoir    Lower  54.858628  24.123667  1973-07-13   \n",
       "2  Kaunas Water Reservoir    Lower  54.858628  24.123667  1973-07-13   \n",
       "3  Kaunas Water Reservoir    Lower  54.858628  24.123667  1973-07-13   \n",
       "4  Kaunas Water Reservoir    Lower  54.858628  24.123667  1973-07-13   \n",
       "\n",
       "        Species_la Species_en  method  total_length  standard_length  ...  \\\n",
       "0  Rutilus rutilus      Roach       2          17.0              NaN  ...   \n",
       "1  Rutilus rutilus      Roach       2          19.0              NaN  ...   \n",
       "2  Rutilus rutilus      Roach       2          20.0              NaN  ...   \n",
       "3  Rutilus rutilus      Roach       2          21.0              NaN  ...   \n",
       "4  Rutilus rutilus      Roach       2          22.0              NaN  ...   \n",
       "\n",
       "   gear_type  total_gear_length  total_gear_length_broad mesh_size  \\\n",
       "0    Gillnet                NaN                very long       NaN   \n",
       "1    Gillnet                NaN                very long       NaN   \n",
       "2    Gillnet                NaN                very long       NaN   \n",
       "3    Gillnet                NaN                very long       NaN   \n",
       "4    Gillnet                NaN                very long       NaN   \n",
       "\n",
       "   mesh_size_min  mesh_size_max  mesh_size_broad soak_time  soak_time_broad  \\\n",
       "0           32.0           36.0             full      12.0             long   \n",
       "1           32.0           36.0             full      12.0             long   \n",
       "2           32.0           36.0             full      12.0             long   \n",
       "3           32.0           36.0             full      12.0             long   \n",
       "4           32.0           36.0             full      12.0             long   \n",
       "\n",
       "   depth  \n",
       "0    NaN  \n",
       "1    NaN  \n",
       "2    NaN  \n",
       "3    NaN  \n",
       "4    NaN  \n",
       "\n",
       "[5 rows x 32 columns]"
      ]
     },
     "execution_count": 2,
     "metadata": {},
     "output_type": "execute_result"
    }
   ],
   "source": [
    "df = pd.read_csv(\"HistoricalFishSurveyDataset_Lithuania.csv\")\n",
    "df.head()"
   ]
  },
  {
   "cell_type": "code",
   "execution_count": 35,
   "id": "e485abc2-e9e1-4e32-9ed8-5f1c3ed140c3",
   "metadata": {},
   "outputs": [
    {
     "data": {
      "text/html": [
       "<div>\n",
       "<style scoped>\n",
       "    .dataframe tbody tr th:only-of-type {\n",
       "        vertical-align: middle;\n",
       "    }\n",
       "\n",
       "    .dataframe tbody tr th {\n",
       "        vertical-align: top;\n",
       "    }\n",
       "\n",
       "    .dataframe thead th {\n",
       "        text-align: right;\n",
       "    }\n",
       "</style>\n",
       "<table border=\"1\" class=\"dataframe\">\n",
       "  <thead>\n",
       "    <tr style=\"text-align: right;\">\n",
       "      <th></th>\n",
       "      <th>Water body</th>\n",
       "      <th>Location</th>\n",
       "      <th>Species_la</th>\n",
       "      <th>total_length</th>\n",
       "      <th>fish_weight</th>\n",
       "      <th>sex</th>\n",
       "      <th>gear_type</th>\n",
       "    </tr>\n",
       "  </thead>\n",
       "  <tbody>\n",
       "    <tr>\n",
       "      <th>0</th>\n",
       "      <td>Kaunas Water Reservoir</td>\n",
       "      <td>Lower</td>\n",
       "      <td>Rutilus rutilus</td>\n",
       "      <td>17.0</td>\n",
       "      <td>NaN</td>\n",
       "      <td>NaN</td>\n",
       "      <td>Gillnet</td>\n",
       "    </tr>\n",
       "    <tr>\n",
       "      <th>1</th>\n",
       "      <td>Kaunas Water Reservoir</td>\n",
       "      <td>Lower</td>\n",
       "      <td>Rutilus rutilus</td>\n",
       "      <td>19.0</td>\n",
       "      <td>NaN</td>\n",
       "      <td>NaN</td>\n",
       "      <td>Gillnet</td>\n",
       "    </tr>\n",
       "    <tr>\n",
       "      <th>2</th>\n",
       "      <td>Kaunas Water Reservoir</td>\n",
       "      <td>Lower</td>\n",
       "      <td>Rutilus rutilus</td>\n",
       "      <td>20.0</td>\n",
       "      <td>NaN</td>\n",
       "      <td>NaN</td>\n",
       "      <td>Gillnet</td>\n",
       "    </tr>\n",
       "    <tr>\n",
       "      <th>3</th>\n",
       "      <td>Kaunas Water Reservoir</td>\n",
       "      <td>Lower</td>\n",
       "      <td>Rutilus rutilus</td>\n",
       "      <td>21.0</td>\n",
       "      <td>NaN</td>\n",
       "      <td>NaN</td>\n",
       "      <td>Gillnet</td>\n",
       "    </tr>\n",
       "    <tr>\n",
       "      <th>4</th>\n",
       "      <td>Kaunas Water Reservoir</td>\n",
       "      <td>Lower</td>\n",
       "      <td>Rutilus rutilus</td>\n",
       "      <td>22.0</td>\n",
       "      <td>NaN</td>\n",
       "      <td>NaN</td>\n",
       "      <td>Gillnet</td>\n",
       "    </tr>\n",
       "    <tr>\n",
       "      <th>...</th>\n",
       "      <td>...</td>\n",
       "      <td>...</td>\n",
       "      <td>...</td>\n",
       "      <td>...</td>\n",
       "      <td>...</td>\n",
       "      <td>...</td>\n",
       "      <td>...</td>\n",
       "    </tr>\n",
       "    <tr>\n",
       "      <th>61666</th>\n",
       "      <td>Curonian Lagoon</td>\n",
       "      <td>Vente</td>\n",
       "      <td>Salmo trutta trutta</td>\n",
       "      <td>69.0</td>\n",
       "      <td>3500.0</td>\n",
       "      <td>1.0</td>\n",
       "      <td>Gillnet</td>\n",
       "    </tr>\n",
       "    <tr>\n",
       "      <th>61667</th>\n",
       "      <td>Curonian Lagoon</td>\n",
       "      <td>Vente</td>\n",
       "      <td>Salmo trutta trutta</td>\n",
       "      <td>59.0</td>\n",
       "      <td>2210.0</td>\n",
       "      <td>2.0</td>\n",
       "      <td>Gillnet</td>\n",
       "    </tr>\n",
       "    <tr>\n",
       "      <th>61668</th>\n",
       "      <td>Curonian Lagoon</td>\n",
       "      <td>Dreverna</td>\n",
       "      <td>Rutilus rutilus</td>\n",
       "      <td>29.0</td>\n",
       "      <td>300.0</td>\n",
       "      <td>NaN</td>\n",
       "      <td>Gillnet</td>\n",
       "    </tr>\n",
       "    <tr>\n",
       "      <th>61669</th>\n",
       "      <td>Curonian Lagoon</td>\n",
       "      <td>Dreverna</td>\n",
       "      <td>Lota lota</td>\n",
       "      <td>46.0</td>\n",
       "      <td>870.0</td>\n",
       "      <td>1.0</td>\n",
       "      <td>Gillnet</td>\n",
       "    </tr>\n",
       "    <tr>\n",
       "      <th>61670</th>\n",
       "      <td>Curonian Lagoon</td>\n",
       "      <td>Dreverna</td>\n",
       "      <td>Platichthys flesus</td>\n",
       "      <td>25.0</td>\n",
       "      <td>160.0</td>\n",
       "      <td>NaN</td>\n",
       "      <td>Gillnet</td>\n",
       "    </tr>\n",
       "  </tbody>\n",
       "</table>\n",
       "<p>61671 rows × 7 columns</p>\n",
       "</div>"
      ],
      "text/plain": [
       "                   Water body  Location           Species_la  total_length  \\\n",
       "0      Kaunas Water Reservoir     Lower      Rutilus rutilus          17.0   \n",
       "1      Kaunas Water Reservoir     Lower      Rutilus rutilus          19.0   \n",
       "2      Kaunas Water Reservoir     Lower      Rutilus rutilus          20.0   \n",
       "3      Kaunas Water Reservoir     Lower      Rutilus rutilus          21.0   \n",
       "4      Kaunas Water Reservoir     Lower      Rutilus rutilus          22.0   \n",
       "...                       ...       ...                  ...           ...   \n",
       "61666         Curonian Lagoon     Vente  Salmo trutta trutta          69.0   \n",
       "61667         Curonian Lagoon     Vente  Salmo trutta trutta          59.0   \n",
       "61668         Curonian Lagoon  Dreverna      Rutilus rutilus          29.0   \n",
       "61669         Curonian Lagoon  Dreverna            Lota lota          46.0   \n",
       "61670         Curonian Lagoon  Dreverna   Platichthys flesus          25.0   \n",
       "\n",
       "       fish_weight  sex gear_type  \n",
       "0              NaN  NaN   Gillnet  \n",
       "1              NaN  NaN   Gillnet  \n",
       "2              NaN  NaN   Gillnet  \n",
       "3              NaN  NaN   Gillnet  \n",
       "4              NaN  NaN   Gillnet  \n",
       "...            ...  ...       ...  \n",
       "61666       3500.0  1.0   Gillnet  \n",
       "61667       2210.0  2.0   Gillnet  \n",
       "61668        300.0  NaN   Gillnet  \n",
       "61669        870.0  1.0   Gillnet  \n",
       "61670        160.0  NaN   Gillnet  \n",
       "\n",
       "[61671 rows x 7 columns]"
      ]
     },
     "metadata": {},
     "output_type": "display_data"
    }
   ],
   "source": [
    "cleaned_df = df[['Water body', 'Location', 'Species_la', 'total_length', 'fish_weight', 'sex', 'gear_type']]\n",
    "display(cleaned_df)"
   ]
  },
  {
   "cell_type": "markdown",
   "id": "dd2c4969-d22a-43b8-93aa-d83356b9cdb2",
   "metadata": {},
   "source": [
    "## Pearson’s chi-squared Two-Sample Test for Binomial Proportions (unmatched)\n",
    "\n",
    "Our dataset contains fish samples collected from two different lakes. We want to compare the fishing rates of fish caught with a \"Trawl\" in these lakes. First, we remove columns with NaN values from the columns we will use. Then, we check whether fishing with a trawl is done in both lakes."
   ]
  },
  {
   "cell_type": "code",
   "execution_count": 4,
   "id": "e3441995-36f1-4878-909d-5f821026f3ac",
   "metadata": {},
   "outputs": [],
   "source": [
    "cleaned_NaN = cleaned_df.dropna(subset=['Water body', 'Species_la', 'gear_type'])"
   ]
  },
  {
   "cell_type": "code",
   "execution_count": 5,
   "id": "1815f939-9d4d-4373-865c-c829a5673124",
   "metadata": {},
   "outputs": [
    {
     "data": {
      "text/plain": [
       "array(['Gillnet', 'Trawl', 'Fykenet', 'Beach seine',\n",
       "       'Gillnet and fykenet', 'Trawl and fykenet'], dtype=object)"
      ]
     },
     "execution_count": 5,
     "metadata": {},
     "output_type": "execute_result"
    }
   ],
   "source": [
    "cleaned_NaN.loc[(cleaned_NaN[\"Water body\"] == \"Curonian Lagoon\") & (cleaned_NaN[\"Species_la\"] != \"Perca fluviatilis\")]['gear_type'].unique()"
   ]
  },
  {
   "cell_type": "code",
   "execution_count": 6,
   "id": "90aa404d-da1c-4361-8117-2cb55639ba51",
   "metadata": {},
   "outputs": [
    {
     "data": {
      "text/plain": [
       "array(['Gillnet', 'Trawl', 'Beach seine', 'Rod'], dtype=object)"
      ]
     },
     "execution_count": 6,
     "metadata": {},
     "output_type": "execute_result"
    }
   ],
   "source": [
    "cleaned_NaN.loc[(cleaned_NaN[\"Water body\"] == \"Kaunas Water Reservoir\") & (cleaned_NaN[\"Species_la\"] != \"Perca fluviatilis\")]['gear_type'].unique()\n"
   ]
  },
  {
   "cell_type": "markdown",
   "id": "194cadd0-52dd-416d-a8fe-2697dc708ebc",
   "metadata": {},
   "source": [
    "It appears that trawl fishing is conducted in both lakes. We create a $2x2$ summary table with the numbers of fish caught by trawl and other methods."
   ]
  },
  {
   "cell_type": "markdown",
   "id": "341a1e86-0ae5-4ab6-aa79-cf782fa4bf96",
   "metadata": {},
   "source": [
    "$H_0: p_1 = p_2$ $H_1: p_1 ≠ p_2$"
   ]
  },
  {
   "cell_type": "code",
   "execution_count": 7,
   "id": "dcfa6e70-ad00-463c-ad31-4ed8eb71023b",
   "metadata": {},
   "outputs": [
    {
     "data": {
      "text/html": [
       "<div>\n",
       "<style scoped>\n",
       "    .dataframe tbody tr th:only-of-type {\n",
       "        vertical-align: middle;\n",
       "    }\n",
       "\n",
       "    .dataframe tbody tr th {\n",
       "        vertical-align: top;\n",
       "    }\n",
       "\n",
       "    .dataframe thead th {\n",
       "        text-align: right;\n",
       "    }\n",
       "</style>\n",
       "<table border=\"1\" class=\"dataframe\">\n",
       "  <thead>\n",
       "    <tr style=\"text-align: right;\">\n",
       "      <th></th>\n",
       "      <th>Kaunas</th>\n",
       "      <th>Curonian</th>\n",
       "      <th>Total</th>\n",
       "    </tr>\n",
       "  </thead>\n",
       "  <tbody>\n",
       "    <tr>\n",
       "      <th>Trawl</th>\n",
       "      <td>467</td>\n",
       "      <td>8798</td>\n",
       "      <td>9265</td>\n",
       "    </tr>\n",
       "    <tr>\n",
       "      <th>Others</th>\n",
       "      <td>31848</td>\n",
       "      <td>14721</td>\n",
       "      <td>46569</td>\n",
       "    </tr>\n",
       "    <tr>\n",
       "      <th>Total</th>\n",
       "      <td>32315</td>\n",
       "      <td>23519</td>\n",
       "      <td>55834</td>\n",
       "    </tr>\n",
       "  </tbody>\n",
       "</table>\n",
       "</div>"
      ],
      "text/plain": [
       "        Kaunas  Curonian  Total\n",
       "Trawl      467      8798   9265\n",
       "Others   31848     14721  46569\n",
       "Total    32315     23519  55834"
      ]
     },
     "metadata": {},
     "output_type": "display_data"
    }
   ],
   "source": [
    "Kaunas_trawl = len(cleaned_NaN.loc[(cleaned_NaN[\"Water body\"] == \"Kaunas Water Reservoir\") & \n",
    "                   (cleaned_NaN[\"gear_type\"] == \"Trawl\")])\n",
    "Kaunas_other = len(cleaned_NaN.loc[(cleaned_NaN[\"Water body\"] == \"Kaunas Water Reservoir\") & \n",
    "                   (cleaned_NaN[\"gear_type\"] != \"Trawl\")])\n",
    "\n",
    "Curonial_trawl = len(cleaned_NaN.loc[(cleaned_NaN[\"Water body\"] == \"Curonian Lagoon\") & \n",
    "                   (cleaned_NaN[\"gear_type\"] == \"Trawl\")])\n",
    "Curonial_other = len(cleaned_NaN.loc[(cleaned_NaN[\"Water body\"] == \"Curonian Lagoon\") & \n",
    "                   (cleaned_NaN[\"gear_type\"] != \"Trawl\")])\n",
    "\n",
    "data = [[Kaunas_trawl, Curonial_trawl, Kaunas_trawl+Curonial_trawl], \n",
    "        [Kaunas_other, Curonial_other, Kaunas_other+Curonial_other],\n",
    "        [Kaunas_trawl+Kaunas_other, Curonial_trawl+Curonial_other,Kaunas_trawl+Kaunas_other+Curonial_trawl+Curonial_other]]\n",
    "contingency_table = pd.DataFrame(data, columns=['Kaunas', 'Curonian', 'Total'], index=['Trawl', 'Others', 'Total'])\n",
    "display(contingency_table)"
   ]
  },
  {
   "cell_type": "code",
   "execution_count": 8,
   "id": "a2853f98-2712-48bd-bb0e-18e49c94391d",
   "metadata": {},
   "outputs": [
    {
     "name": "stdout",
     "output_type": "stream",
     "text": [
      "Chi2 Statistic:\t\t 12720.05297900437\n",
      "P-value:\t\t 0.0\n",
      "Degrees of Freedom:\t 1\n",
      "Expected Frequencies:\n",
      " [[ 5362.29671885  3902.70328115]\n",
      " [26952.70328115 19616.29671885]]\n"
     ]
    }
   ],
   "source": [
    "from scipy.stats import chi2_contingency\n",
    "\n",
    "matrix = np.array([[Kaunas_trawl, Curonial_trawl], [Kaunas_other, Curonial_other]])\n",
    "\n",
    "chi2, p, dof, expected = chi2_contingency(matrix, correction=False)\n",
    "\n",
    "# Print the results\n",
    "print(\"Chi2 Statistic:\\t\\t\", chi2)\n",
    "print(\"P-value:\\t\\t\", p)\n",
    "print(\"Degrees of Freedom:\\t\", dof)\n",
    "print(\"Expected Frequencies:\\n\", expected)"
   ]
  },
  {
   "cell_type": "markdown",
   "id": "085a05e0-c5b8-4ba8-9dd4-0517fd98f66b",
   "metadata": {},
   "source": [
    "The Expected Table contains all cells with numbers greater than 5. Therefore, the assumption of a normal distribution can be made, and there is no need to apply Yates' Correction. According to the results of the chi-square test, a statistically significant difference was found in the fishing rates with \"trawl\" between fish in two different lakes. When examining the expected frequencies matrix, it is observed that the fishing rates with \"trawl\" vary significantly between the different lakes. Based on this result, it can be interpreted that there are more fish species suitable for trawl fishing in Curonian Lagoon or that the structure of Kaunas Water Reservoir is not suitable for trawl fishing."
   ]
  },
  {
   "cell_type": "markdown",
   "id": "a230e14a-3e52-49ef-9090-9a0854db6e5a",
   "metadata": {},
   "source": [
    "<hr>\n",
    "\n",
    "## Simple Linear Regression Analysis\n",
    "\n",
    "Regression analysis is a data science approach used to understand the relationship between continuous dependent and independent variables. Dependent variables are those whose values are determined based on one or more independent variables. To build a regression model, both dependent and independent variables are required. By determining the relationship between the dependent and independent variables, a regression model can be created to predict the value of the dependent variable. Various regression models can be applied depending on the structure of the data and the information desired to be extracted from the data.\n",
    "\n",
    "Here, we are creating a Linear Regression model **to predict the weights of Abramis brama fish** found in the Curonian Lagoon. For this, we need to first obtain the desired sample from our dataset and remove NaN values and outlier values."
   ]
  },
  {
   "cell_type": "code",
   "execution_count": 9,
   "id": "4ceec319-eb9c-49bc-9d36-0f7bf4d53c48",
   "metadata": {},
   "outputs": [
    {
     "data": {
      "text/html": [
       "<div>\n",
       "<style scoped>\n",
       "    .dataframe tbody tr th:only-of-type {\n",
       "        vertical-align: middle;\n",
       "    }\n",
       "\n",
       "    .dataframe tbody tr th {\n",
       "        vertical-align: top;\n",
       "    }\n",
       "\n",
       "    .dataframe thead th {\n",
       "        text-align: right;\n",
       "    }\n",
       "</style>\n",
       "<table border=\"1\" class=\"dataframe\">\n",
       "  <thead>\n",
       "    <tr style=\"text-align: right;\">\n",
       "      <th></th>\n",
       "      <th>Water body</th>\n",
       "      <th>Species_la</th>\n",
       "      <th>total_length</th>\n",
       "      <th>fish_weight</th>\n",
       "    </tr>\n",
       "  </thead>\n",
       "  <tbody>\n",
       "    <tr>\n",
       "      <th>32315</th>\n",
       "      <td>Curonian Lagoon</td>\n",
       "      <td>Abramis brama</td>\n",
       "      <td>34.0</td>\n",
       "      <td>420.0</td>\n",
       "    </tr>\n",
       "    <tr>\n",
       "      <th>32316</th>\n",
       "      <td>Curonian Lagoon</td>\n",
       "      <td>Abramis brama</td>\n",
       "      <td>35.0</td>\n",
       "      <td>440.0</td>\n",
       "    </tr>\n",
       "    <tr>\n",
       "      <th>32317</th>\n",
       "      <td>Curonian Lagoon</td>\n",
       "      <td>Abramis brama</td>\n",
       "      <td>39.0</td>\n",
       "      <td>718.0</td>\n",
       "    </tr>\n",
       "    <tr>\n",
       "      <th>32318</th>\n",
       "      <td>Curonian Lagoon</td>\n",
       "      <td>Abramis brama</td>\n",
       "      <td>40.0</td>\n",
       "      <td>758.0</td>\n",
       "    </tr>\n",
       "    <tr>\n",
       "      <th>32319</th>\n",
       "      <td>Curonian Lagoon</td>\n",
       "      <td>Abramis brama</td>\n",
       "      <td>42.0</td>\n",
       "      <td>860.0</td>\n",
       "    </tr>\n",
       "  </tbody>\n",
       "</table>\n",
       "</div>"
      ],
      "text/plain": [
       "            Water body     Species_la  total_length  fish_weight\n",
       "32315  Curonian Lagoon  Abramis brama          34.0        420.0\n",
       "32316  Curonian Lagoon  Abramis brama          35.0        440.0\n",
       "32317  Curonian Lagoon  Abramis brama          39.0        718.0\n",
       "32318  Curonian Lagoon  Abramis brama          40.0        758.0\n",
       "32319  Curonian Lagoon  Abramis brama          42.0        860.0"
      ]
     },
     "execution_count": 9,
     "metadata": {},
     "output_type": "execute_result"
    }
   ],
   "source": [
    "cleaned_NaN_reg = cleaned_df.dropna(subset=['Water body', 'Species_la', 'fish_weight', 'total_length'])\n",
    "cleaned_NaN_reg = cleaned_NaN_reg[['Water body', 'Species_la', 'total_length', 'fish_weight']]\n",
    "cleaned_NaN_reg = cleaned_NaN_reg.loc[(cleaned_NaN_reg[\"Water body\"] == \"Curonian Lagoon\") & (cleaned_NaN_reg[\"Species_la\"] == \"Abramis brama\")]\n",
    "cleaned_NaN_reg.head()"
   ]
  },
  {
   "cell_type": "code",
   "execution_count": 10,
   "id": "78ecacea-e093-4b94-a639-a65171e013e8",
   "metadata": {},
   "outputs": [
    {
     "name": "stdout",
     "output_type": "stream",
     "text": [
      "There are 10308 rows and no NaN values\n"
     ]
    }
   ],
   "source": [
    "if_nan = cleaned_NaN_reg.isnull().values.any()\n",
    "nan_result = \" some\" if if_nan else \" no\"\n",
    "print(f\"There are {len(cleaned_NaN_reg)} rows and{nan_result} NaN values\")"
   ]
  },
  {
   "cell_type": "markdown",
   "id": "795d1bd6-0a98-4a8a-baed-af5bb272b070",
   "metadata": {},
   "source": [
    "The relationship between \"weight\" and \"total length\" features can be checked by eyes. So, it is visualized below."
   ]
  },
  {
   "cell_type": "code",
   "execution_count": 11,
   "id": "69cf3e7e-3d9d-4006-bba2-70fc80b8bc6a",
   "metadata": {},
   "outputs": [
    {
     "data": {
      "image/png": "[encoded data removed]",
      "text/plain": [
       "<Figure size 640x480 with 1 Axes>"
      ]
     },
     "metadata": {},
     "output_type": "display_data"
    }
   ],
   "source": [
    "look = cleaned_NaN_reg[[\"total_length\", \"fish_weight\"]]\n",
    "\n",
    "plt.figure()\n",
    "plt.scatter(cleaned_NaN_reg[['total_length']], cleaned_NaN_reg[['fish_weight']])\n",
    "plt.title(\"With Outliers\")\n",
    "plt.xlabel('Total Length')\n",
    "plt.ylabel('Weight')\n",
    "plt.show()"
   ]
  },
  {
   "cell_type": "code",
   "execution_count": 12,
   "id": "38e5aecf-d5ea-45f8-9125-2e9eb1384be8",
   "metadata": {},
   "outputs": [
    {
     "data": {
      "text/html": [
       "<div>\n",
       "<style scoped>\n",
       "    .dataframe tbody tr th:only-of-type {\n",
       "        vertical-align: middle;\n",
       "    }\n",
       "\n",
       "    .dataframe tbody tr th {\n",
       "        vertical-align: top;\n",
       "    }\n",
       "\n",
       "    .dataframe thead th {\n",
       "        text-align: right;\n",
       "    }\n",
       "</style>\n",
       "<table border=\"1\" class=\"dataframe\">\n",
       "  <thead>\n",
       "    <tr style=\"text-align: right;\">\n",
       "      <th></th>\n",
       "      <th>count</th>\n",
       "      <th>mean</th>\n",
       "      <th>std</th>\n",
       "      <th>min</th>\n",
       "      <th>25%</th>\n",
       "      <th>50%</th>\n",
       "      <th>75%</th>\n",
       "      <th>max</th>\n",
       "    </tr>\n",
       "  </thead>\n",
       "  <tbody>\n",
       "    <tr>\n",
       "      <th>total_length</th>\n",
       "      <td>10308.0</td>\n",
       "      <td>33.48766</td>\n",
       "      <td>7.999588</td>\n",
       "      <td>6.0</td>\n",
       "      <td>28.0</td>\n",
       "      <td>34.0</td>\n",
       "      <td>39.0</td>\n",
       "      <td>92.0</td>\n",
       "    </tr>\n",
       "    <tr>\n",
       "      <th>fish_weight</th>\n",
       "      <td>10308.0</td>\n",
       "      <td>519.52339</td>\n",
       "      <td>351.089128</td>\n",
       "      <td>1.0</td>\n",
       "      <td>255.0</td>\n",
       "      <td>460.0</td>\n",
       "      <td>728.0</td>\n",
       "      <td>4420.0</td>\n",
       "    </tr>\n",
       "  </tbody>\n",
       "</table>\n",
       "</div>"
      ],
      "text/plain": [
       "                count       mean         std  min    25%    50%    75%     max\n",
       "total_length  10308.0   33.48766    7.999588  6.0   28.0   34.0   39.0    92.0\n",
       "fish_weight   10308.0  519.52339  351.089128  1.0  255.0  460.0  728.0  4420.0"
      ]
     },
     "execution_count": 12,
     "metadata": {},
     "output_type": "execute_result"
    }
   ],
   "source": [
    "cleaned_NaN_reg.describe().T"
   ]
  },
  {
   "cell_type": "markdown",
   "id": "677c23fa-f68b-451d-a3da-ec4f33544fe0",
   "metadata": {},
   "source": [
    "There looks some outliers. They may effect our model. We will clean the outliers using IQR. It looks there is also an exponentially postive relationship between features but we are gonna fit a linear model here. "
   ]
  },
  {
   "cell_type": "code",
   "execution_count": 13,
   "id": "8508a310-fe2c-4897-8f36-135467fd0ad5",
   "metadata": {},
   "outputs": [
    {
     "data": {
      "image/png": "[encoded data removed]",
      "text/plain": [
       "<Figure size 640x480 with 1 Axes>"
      ]
     },
     "metadata": {},
     "output_type": "display_data"
    }
   ],
   "source": [
    "# IQR calculation for weight\n",
    "q1_weight = cleaned_NaN_reg.fish_weight.quantile(0.25)\n",
    "q3_weight = cleaned_NaN_reg.fish_weight.quantile(0.75)\n",
    "iqr_weight = q3_weight - q1_weight\n",
    "alt_weight = q1_weight - 1.5*iqr_weight\n",
    "ust_weight = q3_weight + 1.5*iqr_weight\n",
    "\n",
    "# IQR calculation for height\n",
    "q1_height = cleaned_NaN_reg.total_length.quantile(0.25)\n",
    "q3_height = cleaned_NaN_reg.total_length.quantile(0.75)\n",
    "iqr_height = q3_height - q1_height\n",
    "alt_height = q1_height - 1.5*iqr_height\n",
    "ust_height = q3_height + 1.5*iqr_height\n",
    "\n",
    "cleaned_NaN_reg_NO = cleaned_NaN_reg[[\"total_length\", \"fish_weight\"]]\n",
    "cleaned_NaN_reg_NO = cleaned_NaN_reg_NO.drop(cleaned_NaN_reg_NO[(cleaned_NaN_reg_NO[\"fish_weight\"] > ust_weight) | (cleaned_NaN_reg_NO[\"fish_weight\"] < alt_weight)].index) # outlier valued rows for weight deleted \n",
    "cleaned_NaN_reg_NO = cleaned_NaN_reg_NO.drop(cleaned_NaN_reg_NO[(cleaned_NaN_reg_NO[\"total_length\"] > ust_height) | (cleaned_NaN_reg_NO[\"total_length\"] < alt_height)].index) # outlier valued rows for height deleted \n",
    "\n",
    "\n",
    "weight = cleaned_NaN_reg_NO[[\"fish_weight\"]]\n",
    "length = cleaned_NaN_reg_NO[[\"total_length\"]]\n",
    "\n",
    "plt.figure()\n",
    "plt.scatter(cleaned_NaN_reg_NO[['total_length']], cleaned_NaN_reg_NO[['fish_weight']])\n",
    "plt.title(\"Without Outliers\")\n",
    "plt.xlabel('Total Length')\n",
    "plt.ylabel('Weight')\n",
    "plt.show()"
   ]
  },
  {
   "cell_type": "code",
   "execution_count": 14,
   "id": "ed67fe89-920c-42e1-a6e0-47f7013dd395",
   "metadata": {},
   "outputs": [
    {
     "data": {
      "text/html": [
       "<div>\n",
       "<style scoped>\n",
       "    .dataframe tbody tr th:only-of-type {\n",
       "        vertical-align: middle;\n",
       "    }\n",
       "\n",
       "    .dataframe tbody tr th {\n",
       "        vertical-align: top;\n",
       "    }\n",
       "\n",
       "    .dataframe thead th {\n",
       "        text-align: right;\n",
       "    }\n",
       "</style>\n",
       "<table border=\"1\" class=\"dataframe\">\n",
       "  <thead>\n",
       "    <tr style=\"text-align: right;\">\n",
       "      <th></th>\n",
       "      <th>count</th>\n",
       "      <th>mean</th>\n",
       "      <th>std</th>\n",
       "      <th>min</th>\n",
       "      <th>25%</th>\n",
       "      <th>50%</th>\n",
       "      <th>75%</th>\n",
       "      <th>max</th>\n",
       "    </tr>\n",
       "  </thead>\n",
       "  <tbody>\n",
       "    <tr>\n",
       "      <th>total_length</th>\n",
       "      <td>10308.0</td>\n",
       "      <td>33.48766</td>\n",
       "      <td>7.999588</td>\n",
       "      <td>6.0</td>\n",
       "      <td>28.0</td>\n",
       "      <td>34.0</td>\n",
       "      <td>39.0</td>\n",
       "      <td>92.0</td>\n",
       "    </tr>\n",
       "    <tr>\n",
       "      <th>fish_weight</th>\n",
       "      <td>10308.0</td>\n",
       "      <td>519.52339</td>\n",
       "      <td>351.089128</td>\n",
       "      <td>1.0</td>\n",
       "      <td>255.0</td>\n",
       "      <td>460.0</td>\n",
       "      <td>728.0</td>\n",
       "      <td>4420.0</td>\n",
       "    </tr>\n",
       "  </tbody>\n",
       "</table>\n",
       "</div>"
      ],
      "text/plain": [
       "                count       mean         std  min    25%    50%    75%     max\n",
       "total_length  10308.0   33.48766    7.999588  6.0   28.0   34.0   39.0    92.0\n",
       "fish_weight   10308.0  519.52339  351.089128  1.0  255.0  460.0  728.0  4420.0"
      ]
     },
     "execution_count": 14,
     "metadata": {},
     "output_type": "execute_result"
    }
   ],
   "source": [
    "cleaned_NaN_reg.describe().T"
   ]
  },
  {
   "cell_type": "markdown",
   "id": "f7e2a37d-246f-461a-995b-ce4e70cfcab9",
   "metadata": {},
   "source": [
    "The dataset, which has been cleaned of outlier data, appears to be more suitable for constructing the regression model. The regression model built with this dataset is expected to provide weight estimates that are closer to the population mean rather than the sample mean."
   ]
  },
  {
   "cell_type": "markdown",
   "id": "a8e500ae-a52a-4aa9-b323-863f78c27384",
   "metadata": {},
   "source": [
    "### The Correlation Coefficient\n",
    "\n",
    "A correlation matrix is being created to observe quantitatively the relationship between the total lengths and weights of the fish."
   ]
  },
  {
   "cell_type": "code",
   "execution_count": 15,
   "id": "57cd0c2a-091a-45a4-bc71-f7c12b6fe436",
   "metadata": {},
   "outputs": [
    {
     "data": {
      "text/html": [
       "<style type=\"text/css\">\n",
       "#T_a25f0_row0_col0, #T_a25f0_row1_col1 {\n",
       "  background-color: #08306b;\n",
       "  color: #f1f1f1;\n",
       "}\n",
       "#T_a25f0_row0_col1, #T_a25f0_row1_col0 {\n",
       "  background-color: #f7fbff;\n",
       "  color: #000000;\n",
       "}\n",
       "</style>\n",
       "<table id=\"T_a25f0\">\n",
       "  <thead>\n",
       "    <tr>\n",
       "      <th class=\"blank level0\" >&nbsp;</th>\n",
       "      <th id=\"T_a25f0_level0_col0\" class=\"col_heading level0 col0\" >total_length</th>\n",
       "      <th id=\"T_a25f0_level0_col1\" class=\"col_heading level0 col1\" >fish_weight</th>\n",
       "    </tr>\n",
       "  </thead>\n",
       "  <tbody>\n",
       "    <tr>\n",
       "      <th id=\"T_a25f0_level0_row0\" class=\"row_heading level0 row0\" >total_length</th>\n",
       "      <td id=\"T_a25f0_row0_col0\" class=\"data row0 col0\" >1.000000</td>\n",
       "      <td id=\"T_a25f0_row0_col1\" class=\"data row0 col1\" >0.942548</td>\n",
       "    </tr>\n",
       "    <tr>\n",
       "      <th id=\"T_a25f0_level0_row1\" class=\"row_heading level0 row1\" >fish_weight</th>\n",
       "      <td id=\"T_a25f0_row1_col0\" class=\"data row1 col0\" >0.942548</td>\n",
       "      <td id=\"T_a25f0_row1_col1\" class=\"data row1 col1\" >1.000000</td>\n",
       "    </tr>\n",
       "  </tbody>\n",
       "</table>\n"
      ],
      "text/plain": [
       "<pandas.io.formats.style.Styler at 0x1bc248bed50>"
      ]
     },
     "metadata": {},
     "output_type": "display_data"
    }
   ],
   "source": [
    "correlation_matrix = cleaned_NaN_reg_NO.corr()\n",
    "display(correlation_matrix.style.background_gradient(axis = 0 ,cmap = \"Blues\" ))"
   ]
  },
  {
   "cell_type": "markdown",
   "id": "40d705a7-9c71-4a23-9a9c-3fbf398aabc6",
   "metadata": {},
   "source": [
    "The relationship between the total lengths of fish and their weights is visualized in the graph. It is observed that as the total length increases, the weight also increases. Moreover, as seen in the correlation matrix, the correlation between weight and length variables is very close to 1. Considering this situation, it can be concluded that weight and length variables are suitable for creating a linear regression model.\n",
    "\n",
    "### Creating a model and printing the linear regression line on the chart:"
   ]
  },
  {
   "cell_type": "code",
   "execution_count": 16,
   "id": "13059aea-cc1e-4393-8836-136b3ab2f014",
   "metadata": {},
   "outputs": [
    {
     "data": {
      "text/plain": [
       "<Figure size 640x480 with 0 Axes>"
      ]
     },
     "metadata": {},
     "output_type": "display_data"
    },
    {
     "data": {
      "image/png": "[encoded data removed]",
      "text/plain": [
       "<Figure size 640x480 with 1 Axes>"
      ]
     },
     "metadata": {},
     "output_type": "display_data"
    }
   ],
   "source": [
    "import statsmodels.api as sm\n",
    "from statsmodels.formula.api import ols\n",
    "\n",
    "formula=\"fish_weight ~ total_length\"\n",
    "linear_2f_model = ols(formula, data=cleaned_NaN_reg_NO).fit()\n",
    "aov_table = sm.stats.anova_lm(linear_2f_model, typ=2)\n",
    "aov_table\n",
    "\n",
    "\n",
    "plt.figure()\n",
    "\n",
    "# plot original values\n",
    "plt.figure()\n",
    "plt.scatter(cleaned_NaN_reg_NO[['total_length']], cleaned_NaN_reg_NO[['fish_weight']])\n",
    "plt.plot(cleaned_NaN_reg_NO[\"total_length\"], linear_2f_model.predict(length), c='red', label='prediction')\n",
    "\n",
    "plt.title(\"Linear Regression Line\")\n",
    "plt.xlabel('Total Length (cm)')\n",
    "plt.ylabel('Weight (g)')\n",
    "plt.show()"
   ]
  },
  {
   "cell_type": "code",
   "execution_count": 17,
   "id": "a998e2ac-800d-4d6a-a51d-e8f0551bb637",
   "metadata": {},
   "outputs": [
    {
     "name": "stdout",
     "output_type": "stream",
     "text": [
      "The approximate equation of the fitted regression line:\n",
      "y ≈ -754.4784187542765 + 37.7022671460752*Length\n",
      "R-squared: 0.8883957914406528\n"
     ]
    }
   ],
   "source": [
    "# to take coefficient and the formula\n",
    "coefficients = linear_2f_model.params\n",
    "formula = linear_2f_model.model.formula\n",
    "\n",
    "equation = f\"y ≈ {coefficients['Intercept']} + {coefficients['total_length']}*Length\"\n",
    "\n",
    "print(\"The approximate equation of the fitted regression line:\")\n",
    "print(equation)\n",
    "print(\"R-squared:\", linear_2f_model.rsquared)"
   ]
  },
  {
   "cell_type": "markdown",
   "id": "ae2358d5-85d0-4f66-9e4f-6b841da4624b",
   "metadata": {},
   "source": [
    "### How well does the regression line fit?\n",
    "\n",
    "**F-Test** can be used to understand whether the coefficient of the linear regression is different from 0. "
   ]
  },
  {
   "cell_type": "code",
   "execution_count": 18,
   "id": "5521bcb2-03c1-4eb1-be39-b5d03c06ba3f",
   "metadata": {},
   "outputs": [
    {
     "data": {
      "text/html": [
       "<div>\n",
       "<style scoped>\n",
       "    .dataframe tbody tr th:only-of-type {\n",
       "        vertical-align: middle;\n",
       "    }\n",
       "\n",
       "    .dataframe tbody tr th {\n",
       "        vertical-align: top;\n",
       "    }\n",
       "\n",
       "    .dataframe thead th {\n",
       "        text-align: right;\n",
       "    }\n",
       "</style>\n",
       "<table border=\"1\" class=\"dataframe\">\n",
       "  <thead>\n",
       "    <tr style=\"text-align: right;\">\n",
       "      <th></th>\n",
       "      <th>sum_sq</th>\n",
       "      <th>df</th>\n",
       "      <th>F</th>\n",
       "      <th>PR(&gt;F)</th>\n",
       "    </tr>\n",
       "  </thead>\n",
       "  <tbody>\n",
       "    <tr>\n",
       "      <th>total_length</th>\n",
       "      <td>8.281747e+08</td>\n",
       "      <td>1.0</td>\n",
       "      <td>80414.299792</td>\n",
       "      <td>0.0</td>\n",
       "    </tr>\n",
       "    <tr>\n",
       "      <th>Residual</th>\n",
       "      <td>1.040390e+08</td>\n",
       "      <td>10102.0</td>\n",
       "      <td>NaN</td>\n",
       "      <td>NaN</td>\n",
       "    </tr>\n",
       "  </tbody>\n",
       "</table>\n",
       "</div>"
      ],
      "text/plain": [
       "                    sum_sq       df             F  PR(>F)\n",
       "total_length  8.281747e+08      1.0  80414.299792     0.0\n",
       "Residual      1.040390e+08  10102.0           NaN     NaN"
      ]
     },
     "execution_count": 18,
     "metadata": {},
     "output_type": "execute_result"
    }
   ],
   "source": [
    "import statsmodels.api as sm\n",
    "from statsmodels.formula.api import ols\n",
    "\n",
    "formula=\"fish_weight ~ total_length\"\n",
    "linear_2f_model = ols(formula, data=cleaned_NaN_reg_NO).fit()\n",
    "aov_table = sm.stats.anova_lm(linear_2f_model, typ=2)\n",
    "aov_table\n",
    "\n",
    "#print(linear_2f_model.summary())"
   ]
  },
  {
   "cell_type": "markdown",
   "id": "b357b1d0-7637-4a5b-a6d5-0ad215f1944f",
   "metadata": {},
   "source": [
    "The F value for the total length variable was found to be significantly large. Consequently, the p-value is very close to 0. This implies that the coefficient of our model is significantly different from 0, leading to the rejection of the null hypothesis $H_0: B = 0$.\r\n"
   ]
  },
  {
   "cell_type": "markdown",
   "id": "a1bd177e-1aed-434a-80e6-ca2eb7bb7197",
   "metadata": {},
   "source": [
    "#### Model Can Be Tested Below"
   ]
  },
  {
   "cell_type": "code",
   "execution_count": 19,
   "id": "931e44d8-67bf-4ac3-af8b-6226c9bfdc14",
   "metadata": {},
   "outputs": [
    {
     "name": "stdout",
     "output_type": "stream",
     "text": [
      "Predicted weight for length 35: 565.1009313583555\n"
     ]
    }
   ],
   "source": [
    "new_data = pd.DataFrame({'total_length': [35]})\n",
    "\n",
    "# prediction\n",
    "prediction = linear_2f_model.predict(new_data)\n",
    "\n",
    "print(f\"Predicted weight for length 35: {prediction.iloc[0]}\")"
   ]
  },
  {
   "cell_type": "markdown",
   "id": "c8f8cf09-2d43-42b2-a1b7-cc08656429a8",
   "metadata": {},
   "source": [
    "<hr>\n",
    "\n",
    "## One-Way ANOVA-Fixed-Effects Model\n",
    "\n",
    "The hypotheses for investigating whether the average weights of fish living in the Curonian Lagoon regions 'Vente', 'Sarkuva', 'Rasyte', and 'Atmata' are different from each other are formulated as follows:\n",
    "\n",
    "$H_0:a_i = 0$ --> (All the group averages are same)<br>\n",
    "$H_1:a_i ≠ 0$ --> (at least one average is different from others)\n",
    "\n",
    "For this purpose, we are removing rows with NaN values in the 'Water body', 'Location', and 'fish_weight' columns for different locations and keeping only the records that contain 'Vente', 'Sarkuva', 'Rasyte', and 'Atmata' data in the Location column."
   ]
  },
  {
   "cell_type": "code",
   "execution_count": 20,
   "id": "a81b7636-bc6c-489d-9e05-445d92f33a25",
   "metadata": {},
   "outputs": [
    {
     "data": {
      "text/plain": [
       "array(['Grobsto ragas', 'Vente', 'Sarkuva', 'Rasyte', 'Atmata',\n",
       "       'Juodkrante - Nida', 'Pakalne', 'Skirvyte', 'Preila', 'Ezia',\n",
       "       'Inze', 'Nemunyne', 'Gilija', 'Labagainiai', 'Pilkopa', 'Nida',\n",
       "       'Pervalka', 'Sakute', 'Karkles il.', 'Rusne', 'Kiaules nugara',\n",
       "       'Juodkrante', 'Bambelis', 'Naglis', 'Svencele', 'Kintai',\n",
       "       'Vidmares', 'Bulvikio ragas', 'Deimena', 'Dreverna',\n",
       "       'Gilija-Rasyte', 'Juodoji buja', 'Kliosiu miskas', 'Alksnyne'],\n",
       "      dtype=object)"
      ]
     },
     "execution_count": 20,
     "metadata": {},
     "output_type": "execute_result"
    }
   ],
   "source": [
    "cleaned_NaN_anov = cleaned_df.dropna(subset=['Water body', 'Location', 'fish_weight'])\n",
    "cleaned_NaN_anov.loc[(cleaned_NaN_anov[\"Water body\"] == \"Curonian Lagoon\")]['Location'].unique()"
   ]
  },
  {
   "cell_type": "code",
   "execution_count": 21,
   "id": "a44b7010-719f-4b59-8580-de7b7c6c011d",
   "metadata": {},
   "outputs": [
    {
     "data": {
      "text/html": [
       "<div>\n",
       "<style scoped>\n",
       "    .dataframe tbody tr th:only-of-type {\n",
       "        vertical-align: middle;\n",
       "    }\n",
       "\n",
       "    .dataframe tbody tr th {\n",
       "        vertical-align: top;\n",
       "    }\n",
       "\n",
       "    .dataframe thead th {\n",
       "        text-align: right;\n",
       "    }\n",
       "</style>\n",
       "<table border=\"1\" class=\"dataframe\">\n",
       "  <thead>\n",
       "    <tr style=\"text-align: right;\">\n",
       "      <th></th>\n",
       "      <th>Water body</th>\n",
       "      <th>Location</th>\n",
       "      <th>Species_la</th>\n",
       "      <th>total_length</th>\n",
       "      <th>fish_weight</th>\n",
       "      <th>sex</th>\n",
       "      <th>gear_type</th>\n",
       "    </tr>\n",
       "  </thead>\n",
       "  <tbody>\n",
       "    <tr>\n",
       "      <th>32329</th>\n",
       "      <td>Curonian Lagoon</td>\n",
       "      <td>Vente</td>\n",
       "      <td>Rutilus rutilus</td>\n",
       "      <td>28.0</td>\n",
       "      <td>335.0</td>\n",
       "      <td>2.0</td>\n",
       "      <td>Gillnet</td>\n",
       "    </tr>\n",
       "    <tr>\n",
       "      <th>32330</th>\n",
       "      <td>Curonian Lagoon</td>\n",
       "      <td>Vente</td>\n",
       "      <td>Rutilus rutilus</td>\n",
       "      <td>34.0</td>\n",
       "      <td>545.0</td>\n",
       "      <td>2.0</td>\n",
       "      <td>Gillnet</td>\n",
       "    </tr>\n",
       "    <tr>\n",
       "      <th>32331</th>\n",
       "      <td>Curonian Lagoon</td>\n",
       "      <td>Vente</td>\n",
       "      <td>Rutilus rutilus</td>\n",
       "      <td>30.0</td>\n",
       "      <td>390.0</td>\n",
       "      <td>NaN</td>\n",
       "      <td>Gillnet</td>\n",
       "    </tr>\n",
       "    <tr>\n",
       "      <th>32332</th>\n",
       "      <td>Curonian Lagoon</td>\n",
       "      <td>Vente</td>\n",
       "      <td>Abramis brama</td>\n",
       "      <td>34.0</td>\n",
       "      <td>425.0</td>\n",
       "      <td>2.0</td>\n",
       "      <td>Gillnet</td>\n",
       "    </tr>\n",
       "    <tr>\n",
       "      <th>32333</th>\n",
       "      <td>Curonian Lagoon</td>\n",
       "      <td>Vente</td>\n",
       "      <td>Sander lucioperca</td>\n",
       "      <td>42.0</td>\n",
       "      <td>735.0</td>\n",
       "      <td>1.0</td>\n",
       "      <td>Gillnet</td>\n",
       "    </tr>\n",
       "  </tbody>\n",
       "</table>\n",
       "</div>"
      ],
      "text/plain": [
       "            Water body Location         Species_la  total_length  fish_weight  \\\n",
       "32329  Curonian Lagoon    Vente    Rutilus rutilus          28.0        335.0   \n",
       "32330  Curonian Lagoon    Vente    Rutilus rutilus          34.0        545.0   \n",
       "32331  Curonian Lagoon    Vente    Rutilus rutilus          30.0        390.0   \n",
       "32332  Curonian Lagoon    Vente      Abramis brama          34.0        425.0   \n",
       "32333  Curonian Lagoon    Vente  Sander lucioperca          42.0        735.0   \n",
       "\n",
       "       sex gear_type  \n",
       "32329  2.0   Gillnet  \n",
       "32330  2.0   Gillnet  \n",
       "32331  NaN   Gillnet  \n",
       "32332  2.0   Gillnet  \n",
       "32333  1.0   Gillnet  "
      ]
     },
     "execution_count": 21,
     "metadata": {},
     "output_type": "execute_result"
    }
   ],
   "source": [
    "cleaned_NaN_anov =  cleaned_NaN_anov.loc[(cleaned_NaN_anov[\"Water body\"] == \"Curonian Lagoon\") & \n",
    "((cleaned_NaN_anov[\"Location\"] == \"Vente\") | \n",
    " (cleaned_NaN_anov[\"Location\"] == \"Sarkuva\") |\n",
    " (cleaned_NaN_anov[\"Location\"] == \"Rasyte\") |\n",
    " (cleaned_NaN_anov[\"Location\"] == \"Atmata\"))]\n",
    "cleaned_NaN_anov.head() # Data frame with 'Water body', 'Location', and 'Fish Weight' columns cleared of NaN values"
   ]
  },
  {
   "cell_type": "code",
   "execution_count": 22,
   "id": "fcfb51d9-a999-4c49-8f32-5d0f7d46a747",
   "metadata": {},
   "outputs": [
    {
     "name": "stdout",
     "output_type": "stream",
     "text": [
      "                  df        sum_sq       mean_sq          F        PR(>F)\n",
      "C(Location)      3.0  6.419393e+06  2.139798e+06  12.224475  5.564942e-08\n",
      "Residual     10235.0  1.791556e+09  1.750421e+05        NaN           NaN\n"
     ]
    }
   ],
   "source": [
    "model = ols('fish_weight ~ C(Location)', data=cleaned_NaN_anov).fit()\n",
    "\n",
    "# print ANOVA table\n",
    "anova_table = sm.stats.anova_lm(model, typ=1)\n",
    "print(anova_table)"
   ]
  },
  {
   "cell_type": "markdown",
   "id": "fb3e2ca4-1777-4342-ba8b-0cc6171140d7",
   "metadata": {},
   "source": [
    "The p-value was found to be very small. As a result, the null hypothesis ($H_0$) is rejected. This suggests that there is a high probability that the average weight of fish living in different regions is different for at least one of them.\n",
    "\n",
    "Now we are going to find the groups which have different averages from others."
   ]
  },
  {
   "cell_type": "code",
   "execution_count": 23,
   "id": "b021f866-92f7-4a09-a605-7ba3cf9f6663",
   "metadata": {},
   "outputs": [
    {
     "data": {
      "image/png": "[encoded data removed]",
      "text/plain": [
       "<Figure size 1000x600 with 1 Axes>"
      ]
     },
     "metadata": {},
     "output_type": "display_data"
    }
   ],
   "source": [
    "data = cleaned_NaN_anov[['Location', 'fish_weight']]\n",
    "Vente = data.loc[(data['Location']  == 'Vente')]['fish_weight'].values\n",
    "Sarkuva = data.loc[(data['Location']  == 'Sarkuva')]['fish_weight'].values\n",
    "Rasyte = data.loc[(data['Location']  == 'Rasyte')]['fish_weight'].values\n",
    "Atmata = data.loc[(data['Location']  == 'Atmata')]['fish_weight'].values\n",
    "data_dict = {'Vente': Vente, 'Sarkuva': Sarkuva, 'Rasyte': Rasyte, 'Atmata': Atmata}\n",
    "\n",
    "# Boxplot\n",
    "plt.figure(figsize=(10, 6))\n",
    "plt.boxplot(data_dict.values(), labels=data_dict.keys())\n",
    "plt.title('Fish Weight by Location')\n",
    "plt.xlabel('Location')\n",
    "plt.ylabel('Fish Weight')\n",
    "plt.show()"
   ]
  },
  {
   "cell_type": "markdown",
   "id": "f82b3cc8-2f66-4499-b12a-7e3954255b2c",
   "metadata": {},
   "source": [
    "The weights of fish in the Sarkuva region may appear to be larger than in other regions based on the graph and can be evaluated. However, for the consistency of this evaluation, further testing methods are needed."
   ]
  },
  {
   "cell_type": "markdown",
   "id": "e4e7d642-a4fb-4fa1-bf2b-4c628dec6a58",
   "metadata": {},
   "source": [
    "<hr>\n",
    "\n",
    "## t Test for the Comparison of Pairs of Groups in One-Way ANOVA (LSD Procedure)\n",
    "\n",
    "I couldn't find a function similar to the example in the book that calculates means, standard deviations, and sample sizes for groups. Therefore, we are defining our own function to perform this test. We can use the LSD procedure to compare fish weights of different locations in pairwise groups."
   ]
  },
  {
   "cell_type": "code",
   "execution_count": 24,
   "id": "fc7d6249-2967-4a83-9070-034b296cacb5",
   "metadata": {},
   "outputs": [],
   "source": [
    "from math import sqrt\n",
    "import scipy.stats as stats\n",
    "import pandas as pd\n",
    "\n",
    "\n",
    "def lsd_method(df):\n",
    "    k = len(df)\n",
    "    n_total = df.iloc[:, 3].sum()\n",
    "    sum_sq = 0\n",
    "    \n",
    "    # Calculating the total sample size and the sum of squares total and Within MS for pooled s²\n",
    "    for index in range(k):\n",
    "        ni = df.iloc[index, 3]\n",
    "        si = df.iloc[index, 2]\n",
    "        sum_sq += (ni-1) * (si**2)\n",
    "    \n",
    "    df_residual = n_total - k\n",
    "    pooled_var = sum_sq/df_residual\n",
    "    liste = []\n",
    "    # Comparisons between groups and calculation of p-values\n",
    "    for i in range(k-1):\n",
    "        for j in range(i+1, k):\n",
    "            group1 = str(df.iloc[i, 0])\n",
    "            group2 = str(df.iloc[j, 0])\n",
    "            n1 = df.iloc[i, 3]\n",
    "            n2 = df.iloc[j, 3]\n",
    "            s1 = df.iloc[i, 2]\n",
    "            s2 = df.iloc[j, 2]\n",
    "            m1 = df.iloc[i, 1]\n",
    "            m2 = df.iloc[j, 1]\n",
    "            \n",
    "           \n",
    "            t_value = (m1 - m2) / sqrt(pooled_var * ((1/n1) + (1/n2)))\n",
    "            p_value = stats.t.sf(abs(t_value), df_residual) * 2\n",
    "                \n",
    "            p_value_c = k*(k-1)*p_value\n",
    "            if (p_value_c > 1):\n",
    "                p_value_c = 1\n",
    "\n",
    "            groups = f\"{group1}-{group2}\"\n",
    "            liste.append([groups, p_value, p_value_c])\n",
    "    \n",
    "    p_table = pd.DataFrame(liste, columns=['Comparison', 'p-value', 'Bonferroni corrected'])\n",
    "    p_table = p_table.sort_values(by='p-value')\n",
    "    return p_table"
   ]
  },
  {
   "cell_type": "markdown",
   "id": "2675950a-b6c3-4601-921f-01edf83a91c7",
   "metadata": {},
   "source": [
    "I am comparing the results obtained from the LSD Procedure using a dataset from our textbook to check whether the function we created is working correctly or not. (Rosner TABLE 12.4, page: 564)"
   ]
  },
  {
   "cell_type": "code",
   "execution_count": 25,
   "id": "8cf7d5b0-77f9-4aac-896a-b0c2385b015e",
   "metadata": {},
   "outputs": [
    {
     "data": {
      "text/html": [
       "<div>\n",
       "<style scoped>\n",
       "    .dataframe tbody tr th:only-of-type {\n",
       "        vertical-align: middle;\n",
       "    }\n",
       "\n",
       "    .dataframe tbody tr th {\n",
       "        vertical-align: top;\n",
       "    }\n",
       "\n",
       "    .dataframe thead th {\n",
       "        text-align: right;\n",
       "    }\n",
       "</style>\n",
       "<table border=\"1\" class=\"dataframe\">\n",
       "  <thead>\n",
       "    <tr style=\"text-align: right;\">\n",
       "      <th></th>\n",
       "      <th>Comparison</th>\n",
       "      <th>p-value</th>\n",
       "      <th>Bonferroni corrected</th>\n",
       "    </tr>\n",
       "  </thead>\n",
       "  <tbody>\n",
       "    <tr>\n",
       "      <th>4</th>\n",
       "      <td>NS-HS</td>\n",
       "      <td>8.601878e-46</td>\n",
       "      <td>2.580563e-44</td>\n",
       "    </tr>\n",
       "    <tr>\n",
       "      <th>3</th>\n",
       "      <td>NS-MS</td>\n",
       "      <td>9.604764e-37</td>\n",
       "      <td>2.881429e-35</td>\n",
       "    </tr>\n",
       "    <tr>\n",
       "      <th>8</th>\n",
       "      <td>PS-HS</td>\n",
       "      <td>2.348374e-18</td>\n",
       "      <td>7.045123e-17</td>\n",
       "    </tr>\n",
       "    <tr>\n",
       "      <th>13</th>\n",
       "      <td>LS-HS</td>\n",
       "      <td>2.698312e-15</td>\n",
       "      <td>8.094937e-14</td>\n",
       "    </tr>\n",
       "    <tr>\n",
       "      <th>7</th>\n",
       "      <td>PS-MS</td>\n",
       "      <td>1.651818e-12</td>\n",
       "      <td>4.955454e-11</td>\n",
       "    </tr>\n",
       "    <tr>\n",
       "      <th>2</th>\n",
       "      <td>NS-LS</td>\n",
       "      <td>9.175265e-12</td>\n",
       "      <td>2.752579e-10</td>\n",
       "    </tr>\n",
       "    <tr>\n",
       "      <th>12</th>\n",
       "      <td>LS-MS</td>\n",
       "      <td>5.270251e-10</td>\n",
       "      <td>1.581075e-08</td>\n",
       "    </tr>\n",
       "    <tr>\n",
       "      <th>0</th>\n",
       "      <td>NS-PS</td>\n",
       "      <td>2.421314e-09</td>\n",
       "      <td>7.263942e-08</td>\n",
       "    </tr>\n",
       "    <tr>\n",
       "      <th>11</th>\n",
       "      <td>NI-HS</td>\n",
       "      <td>9.316081e-09</td>\n",
       "      <td>2.794824e-07</td>\n",
       "    </tr>\n",
       "    <tr>\n",
       "      <th>10</th>\n",
       "      <td>NI-MS</td>\n",
       "      <td>3.254873e-06</td>\n",
       "      <td>9.764620e-05</td>\n",
       "    </tr>\n",
       "    <tr>\n",
       "      <th>1</th>\n",
       "      <td>NS-NI</td>\n",
       "      <td>2.769676e-04</td>\n",
       "      <td>8.309027e-03</td>\n",
       "    </tr>\n",
       "    <tr>\n",
       "      <th>14</th>\n",
       "      <td>MS-HS</td>\n",
       "      <td>7.944145e-02</td>\n",
       "      <td>1.000000e+00</td>\n",
       "    </tr>\n",
       "    <tr>\n",
       "      <th>6</th>\n",
       "      <td>PS-LS</td>\n",
       "      <td>3.802407e-01</td>\n",
       "      <td>1.000000e+00</td>\n",
       "    </tr>\n",
       "    <tr>\n",
       "      <th>9</th>\n",
       "      <td>NI-LS</td>\n",
       "      <td>4.755045e-01</td>\n",
       "      <td>1.000000e+00</td>\n",
       "    </tr>\n",
       "    <tr>\n",
       "      <th>5</th>\n",
       "      <td>PS-NI</td>\n",
       "      <td>8.739955e-01</td>\n",
       "      <td>1.000000e+00</td>\n",
       "    </tr>\n",
       "  </tbody>\n",
       "</table>\n",
       "</div>"
      ],
      "text/plain": [
       "   Comparison       p-value  Bonferroni corrected\n",
       "4       NS-HS  8.601878e-46          2.580563e-44\n",
       "3       NS-MS  9.604764e-37          2.881429e-35\n",
       "8       PS-HS  2.348374e-18          7.045123e-17\n",
       "13      LS-HS  2.698312e-15          8.094937e-14\n",
       "7       PS-MS  1.651818e-12          4.955454e-11\n",
       "2       NS-LS  9.175265e-12          2.752579e-10\n",
       "12      LS-MS  5.270251e-10          1.581075e-08\n",
       "0       NS-PS  2.421314e-09          7.263942e-08\n",
       "11      NI-HS  9.316081e-09          2.794824e-07\n",
       "10      NI-MS  3.254873e-06          9.764620e-05\n",
       "1       NS-NI  2.769676e-04          8.309027e-03\n",
       "14      MS-HS  7.944145e-02          1.000000e+00\n",
       "6       PS-LS  3.802407e-01          1.000000e+00\n",
       "9       NI-LS  4.755045e-01          1.000000e+00\n",
       "5       PS-NI  8.739955e-01          1.000000e+00"
      ]
     },
     "metadata": {},
     "output_type": "display_data"
    }
   ],
   "source": [
    "fef = {\n",
    "    'Group':[\"NS\", \"PS\", \"NI\", \"LS\", \"MS\", \"HS\"],\n",
    "    'Mean':[3.78, 3.30, 3.32, 3.23, 2.73, 2.59],\n",
    "    'sd FEF':[0.79, 0.77, 0.86, 0.78, 0.81, 0.82],\n",
    "    'n':[200, 200, 50, 200, 200, 200]\n",
    "}\n",
    "\n",
    "FEF = pd.DataFrame(fef)\n",
    "p_table = lsd_method(FEF)\n",
    "display(p_table)"
   ]
  },
  {
   "cell_type": "markdown",
   "id": "29911505-5259-4a43-9ee1-5be6c0b2121d",
   "metadata": {},
   "source": [
    "The results are consistent with the book. Therefore, the manually defined test function can be used for statistical analysis.\n",
    "\n",
    "The weight averages, standard deviations, and sample sizes of the fish in the regions 'Vente', 'Sarkuva', 'Rasyte', and 'Atmata' were saved as a pandas library dataframe. Calculations were performed based on this summary data table."
   ]
  },
  {
   "cell_type": "code",
   "execution_count": 26,
   "id": "e5a53ad3-ad88-40fb-b710-3209327cc628",
   "metadata": {},
   "outputs": [
    {
     "data": {
      "text/html": [
       "<div>\n",
       "<style scoped>\n",
       "    .dataframe tbody tr th:only-of-type {\n",
       "        vertical-align: middle;\n",
       "    }\n",
       "\n",
       "    .dataframe tbody tr th {\n",
       "        vertical-align: top;\n",
       "    }\n",
       "\n",
       "    .dataframe thead th {\n",
       "        text-align: right;\n",
       "    }\n",
       "</style>\n",
       "<table border=\"1\" class=\"dataframe\">\n",
       "  <thead>\n",
       "    <tr style=\"text-align: right;\">\n",
       "      <th></th>\n",
       "      <th>location</th>\n",
       "      <th>avg</th>\n",
       "      <th>std</th>\n",
       "      <th>n</th>\n",
       "    </tr>\n",
       "  </thead>\n",
       "  <tbody>\n",
       "    <tr>\n",
       "      <th>0</th>\n",
       "      <td>Vente</td>\n",
       "      <td>486.346581</td>\n",
       "      <td>423.452626</td>\n",
       "      <td>9680</td>\n",
       "    </tr>\n",
       "    <tr>\n",
       "      <th>1</th>\n",
       "      <td>Sarkuva</td>\n",
       "      <td>794.857143</td>\n",
       "      <td>719.863876</td>\n",
       "      <td>49</td>\n",
       "    </tr>\n",
       "    <tr>\n",
       "      <th>2</th>\n",
       "      <td>Rasyte</td>\n",
       "      <td>563.000000</td>\n",
       "      <td>415.589908</td>\n",
       "      <td>71</td>\n",
       "    </tr>\n",
       "    <tr>\n",
       "      <th>3</th>\n",
       "      <td>Atmata</td>\n",
       "      <td>431.102506</td>\n",
       "      <td>208.440132</td>\n",
       "      <td>439</td>\n",
       "    </tr>\n",
       "  </tbody>\n",
       "</table>\n",
       "</div>"
      ],
      "text/plain": [
       "  location         avg         std     n\n",
       "0    Vente  486.346581  423.452626  9680\n",
       "1  Sarkuva  794.857143  719.863876    49\n",
       "2   Rasyte  563.000000  415.589908    71\n",
       "3   Atmata  431.102506  208.440132   439"
      ]
     },
     "execution_count": 26,
     "metadata": {},
     "output_type": "execute_result"
    }
   ],
   "source": [
    "cleaned_NaN_anov = cleaned_NaN_anov[[\"Water body\", \"Location\", \"fish_weight\"]]\n",
    "weight_avg_Vente = cleaned_NaN_anov.loc[(cleaned_NaN_anov[\"Location\"] == \"Vente\")]['fish_weight'].mean()\n",
    "weight_std_Vente = cleaned_NaN_anov.loc[(cleaned_NaN_anov[\"Location\"] == \"Vente\")]['fish_weight'].std()\n",
    "weight_count_Vente = cleaned_NaN_anov.loc[(cleaned_NaN_anov[\"Location\"] == \"Vente\")]['fish_weight'].count()\n",
    "\n",
    "weight_avg_Sarkuva = cleaned_NaN_anov.loc[(cleaned_NaN_anov[\"Location\"] == \"Sarkuva\")]['fish_weight'].mean()\n",
    "weight_std_Sarkuva = cleaned_NaN_anov.loc[(cleaned_NaN_anov[\"Location\"] == \"Sarkuva\")]['fish_weight'].std()\n",
    "weight_count_Sarkuva = cleaned_NaN_anov.loc[(cleaned_NaN_anov[\"Location\"] == \"Sarkuva\")]['fish_weight'].count()\n",
    "\n",
    "weight_avg_Rasyte = cleaned_NaN_anov.loc[(cleaned_NaN_anov[\"Location\"] == \"Rasyte\")]['fish_weight'].mean()\n",
    "weight_std_Rasyte = cleaned_NaN_anov.loc[(cleaned_NaN_anov[\"Location\"] == \"Rasyte\")]['fish_weight'].std()\n",
    "weight_count_Rasyte = cleaned_NaN_anov.loc[(cleaned_NaN_anov[\"Location\"] == \"Rasyte\")]['fish_weight'].count()\n",
    "\n",
    "weight_avg_Atmata = cleaned_NaN_anov.loc[(cleaned_NaN_anov[\"Location\"] == \"Atmata\")]['fish_weight'].mean()\n",
    "weight_std_Atmata = cleaned_NaN_anov.loc[(cleaned_NaN_anov[\"Location\"] == \"Atmata\")]['fish_weight'].std()\n",
    "weight_count_Atmata = cleaned_NaN_anov.loc[(cleaned_NaN_anov[\"Location\"] == \"Atmata\")]['fish_weight'].count()\n",
    "\n",
    "lsd_dict = {\n",
    "    'location':['Vente', 'Sarkuva', 'Rasyte', 'Atmata'],\n",
    "    'avg':[weight_avg_Vente, weight_avg_Sarkuva, weight_avg_Rasyte, weight_avg_Atmata],\n",
    "    'std':[weight_std_Vente, weight_std_Sarkuva, weight_std_Rasyte, weight_std_Atmata],\n",
    "    'n':[weight_count_Vente, weight_count_Sarkuva, weight_count_Rasyte, weight_count_Atmata]\n",
    "}\n",
    "LSD = pd.DataFrame(lsd_dict)\n",
    "LSD"
   ]
  },
  {
   "cell_type": "code",
   "execution_count": 27,
   "id": "41a77f77-516e-4911-b12b-ed871287da07",
   "metadata": {},
   "outputs": [
    {
     "data": {
      "text/html": [
       "<div>\n",
       "<style scoped>\n",
       "    .dataframe tbody tr th:only-of-type {\n",
       "        vertical-align: middle;\n",
       "    }\n",
       "\n",
       "    .dataframe tbody tr th {\n",
       "        vertical-align: top;\n",
       "    }\n",
       "\n",
       "    .dataframe thead th {\n",
       "        text-align: right;\n",
       "    }\n",
       "</style>\n",
       "<table border=\"1\" class=\"dataframe\">\n",
       "  <thead>\n",
       "    <tr style=\"text-align: right;\">\n",
       "      <th></th>\n",
       "      <th>Comparison</th>\n",
       "      <th>p-value</th>\n",
       "      <th>Bonferroni corrected</th>\n",
       "    </tr>\n",
       "  </thead>\n",
       "  <tbody>\n",
       "    <tr>\n",
       "      <th>4</th>\n",
       "      <td>Sarkuva-Atmata</td>\n",
       "      <td>8.041503e-09</td>\n",
       "      <td>9.649804e-08</td>\n",
       "    </tr>\n",
       "    <tr>\n",
       "      <th>0</th>\n",
       "      <td>Vente-Sarkuva</td>\n",
       "      <td>2.671242e-07</td>\n",
       "      <td>3.205490e-06</td>\n",
       "    </tr>\n",
       "    <tr>\n",
       "      <th>3</th>\n",
       "      <td>Sarkuva-Rasyte</td>\n",
       "      <td>2.852616e-03</td>\n",
       "      <td>3.423139e-02</td>\n",
       "    </tr>\n",
       "    <tr>\n",
       "      <th>2</th>\n",
       "      <td>Vente-Atmata</td>\n",
       "      <td>6.822749e-03</td>\n",
       "      <td>8.187299e-02</td>\n",
       "    </tr>\n",
       "    <tr>\n",
       "      <th>5</th>\n",
       "      <td>Rasyte-Atmata</td>\n",
       "      <td>1.373398e-02</td>\n",
       "      <td>1.648077e-01</td>\n",
       "    </tr>\n",
       "    <tr>\n",
       "      <th>1</th>\n",
       "      <td>Vente-Rasyte</td>\n",
       "      <td>1.240395e-01</td>\n",
       "      <td>1.000000e+00</td>\n",
       "    </tr>\n",
       "  </tbody>\n",
       "</table>\n",
       "</div>"
      ],
      "text/plain": [
       "       Comparison       p-value  Bonferroni corrected\n",
       "4  Sarkuva-Atmata  8.041503e-09          9.649804e-08\n",
       "0   Vente-Sarkuva  2.671242e-07          3.205490e-06\n",
       "3  Sarkuva-Rasyte  2.852616e-03          3.423139e-02\n",
       "2    Vente-Atmata  6.822749e-03          8.187299e-02\n",
       "5   Rasyte-Atmata  1.373398e-02          1.648077e-01\n",
       "1    Vente-Rasyte  1.240395e-01          1.000000e+00"
      ]
     },
     "metadata": {},
     "output_type": "display_data"
    }
   ],
   "source": [
    "p_table = lsd_method(LSD) # The fisher lsd test is applied\n",
    "display(p_table)"
   ]
  },
  {
   "cell_type": "markdown",
   "id": "af5d8686-f01e-4d1a-a002-a2a353e9c21d",
   "metadata": {},
   "source": [
    "Multiple statistical tests conducted on the same dataset increase the risk of false positives (Type 1 error). Therefore, an error correction method should be chosen. With Bonferroni correction, a table of p-values was obtained.\n",
    "\n",
    "When the alpha value is set to 0.05, it can be said that there is no difference in fish weight averages between the 'Vente-Rasyte', 'Rasyte-Armata', and 'Vente-Atmata' regions. However, for the other regions, the p-values are very small, indicating that there are differences in fish weights among these regions."
   ]
  },
  {
   "cell_type": "markdown",
   "id": "fda5f450-a4eb-47eb-91bb-d2061c5e0553",
   "metadata": {},
   "source": [
    "<hr>\n",
    "\n",
    "# Measures Of Effect for Categorical data\n",
    "\n",
    "The distribution of male and female Abramis brama fish in different depths of the Kaunas Water Reservoir is being investigated. The collected data on lake depth is categorized into three groups: \"lower,\" \"middle,\" and \"upper.\" To ensure a clear distinction, data in the \"middle\" category will be excluded from the analysis. A comparison will be made between the close to the bottom presence rates of male and female fish.\n",
    "\n",
    "We obtain the data appropriately for the test and create a $2*2$ table."
   ]
  },
  {
   "cell_type": "code",
   "execution_count": 28,
   "id": "301ef4ea-4bd2-4f64-9442-b62847e076e7",
   "metadata": {},
   "outputs": [
    {
     "data": {
      "text/html": [
       "<div>\n",
       "<style scoped>\n",
       "    .dataframe tbody tr th:only-of-type {\n",
       "        vertical-align: middle;\n",
       "    }\n",
       "\n",
       "    .dataframe tbody tr th {\n",
       "        vertical-align: top;\n",
       "    }\n",
       "\n",
       "    .dataframe thead th {\n",
       "        text-align: right;\n",
       "    }\n",
       "</style>\n",
       "<table border=\"1\" class=\"dataframe\">\n",
       "  <thead>\n",
       "    <tr style=\"text-align: right;\">\n",
       "      <th></th>\n",
       "      <th>Water body</th>\n",
       "      <th>Location</th>\n",
       "      <th>Species_la</th>\n",
       "      <th>sex</th>\n",
       "    </tr>\n",
       "  </thead>\n",
       "  <tbody>\n",
       "    <tr>\n",
       "      <th>0</th>\n",
       "      <td>Kaunas Water Reservoir</td>\n",
       "      <td>Lower</td>\n",
       "      <td>Rutilus rutilus</td>\n",
       "      <td>NaN</td>\n",
       "    </tr>\n",
       "    <tr>\n",
       "      <th>1</th>\n",
       "      <td>Kaunas Water Reservoir</td>\n",
       "      <td>Lower</td>\n",
       "      <td>Rutilus rutilus</td>\n",
       "      <td>NaN</td>\n",
       "    </tr>\n",
       "    <tr>\n",
       "      <th>2</th>\n",
       "      <td>Kaunas Water Reservoir</td>\n",
       "      <td>Lower</td>\n",
       "      <td>Rutilus rutilus</td>\n",
       "      <td>NaN</td>\n",
       "    </tr>\n",
       "    <tr>\n",
       "      <th>3</th>\n",
       "      <td>Kaunas Water Reservoir</td>\n",
       "      <td>Lower</td>\n",
       "      <td>Rutilus rutilus</td>\n",
       "      <td>NaN</td>\n",
       "    </tr>\n",
       "    <tr>\n",
       "      <th>4</th>\n",
       "      <td>Kaunas Water Reservoir</td>\n",
       "      <td>Lower</td>\n",
       "      <td>Rutilus rutilus</td>\n",
       "      <td>NaN</td>\n",
       "    </tr>\n",
       "    <tr>\n",
       "      <th>...</th>\n",
       "      <td>...</td>\n",
       "      <td>...</td>\n",
       "      <td>...</td>\n",
       "      <td>...</td>\n",
       "    </tr>\n",
       "    <tr>\n",
       "      <th>61666</th>\n",
       "      <td>Curonian Lagoon</td>\n",
       "      <td>Vente</td>\n",
       "      <td>Salmo trutta trutta</td>\n",
       "      <td>1.0</td>\n",
       "    </tr>\n",
       "    <tr>\n",
       "      <th>61667</th>\n",
       "      <td>Curonian Lagoon</td>\n",
       "      <td>Vente</td>\n",
       "      <td>Salmo trutta trutta</td>\n",
       "      <td>2.0</td>\n",
       "    </tr>\n",
       "    <tr>\n",
       "      <th>61668</th>\n",
       "      <td>Curonian Lagoon</td>\n",
       "      <td>Dreverna</td>\n",
       "      <td>Rutilus rutilus</td>\n",
       "      <td>NaN</td>\n",
       "    </tr>\n",
       "    <tr>\n",
       "      <th>61669</th>\n",
       "      <td>Curonian Lagoon</td>\n",
       "      <td>Dreverna</td>\n",
       "      <td>Lota lota</td>\n",
       "      <td>1.0</td>\n",
       "    </tr>\n",
       "    <tr>\n",
       "      <th>61670</th>\n",
       "      <td>Curonian Lagoon</td>\n",
       "      <td>Dreverna</td>\n",
       "      <td>Platichthys flesus</td>\n",
       "      <td>NaN</td>\n",
       "    </tr>\n",
       "  </tbody>\n",
       "</table>\n",
       "<p>61671 rows × 4 columns</p>\n",
       "</div>"
      ],
      "text/plain": [
       "                   Water body  Location           Species_la  sex\n",
       "0      Kaunas Water Reservoir     Lower      Rutilus rutilus  NaN\n",
       "1      Kaunas Water Reservoir     Lower      Rutilus rutilus  NaN\n",
       "2      Kaunas Water Reservoir     Lower      Rutilus rutilus  NaN\n",
       "3      Kaunas Water Reservoir     Lower      Rutilus rutilus  NaN\n",
       "4      Kaunas Water Reservoir     Lower      Rutilus rutilus  NaN\n",
       "...                       ...       ...                  ...  ...\n",
       "61666         Curonian Lagoon     Vente  Salmo trutta trutta  1.0\n",
       "61667         Curonian Lagoon     Vente  Salmo trutta trutta  2.0\n",
       "61668         Curonian Lagoon  Dreverna      Rutilus rutilus  NaN\n",
       "61669         Curonian Lagoon  Dreverna            Lota lota  1.0\n",
       "61670         Curonian Lagoon  Dreverna   Platichthys flesus  NaN\n",
       "\n",
       "[61671 rows x 4 columns]"
      ]
     },
     "execution_count": 28,
     "metadata": {},
     "output_type": "execute_result"
    }
   ],
   "source": [
    "cleaned_df[['Water body', 'Location', 'Species_la','sex']]"
   ]
  },
  {
   "cell_type": "code",
   "execution_count": 29,
   "id": "600c0218-1bd5-4a6e-bbb5-c21944ad0709",
   "metadata": {},
   "outputs": [],
   "source": [
    "elevation_df = cleaned_df[['Water body', 'Location', 'Species_la','sex']]\n",
    "elevation_df = elevation_df.dropna(subset=['Water body', 'Location', 'Species_la','sex'])\n",
    "\n",
    "elevation_df = elevation_df.loc[((elevation_df['Location'] == 'Lower') | (elevation_df['Location'] == 'Upper')) & (elevation_df['Water body'] == 'Kaunas Water Reservoir') & (elevation_df['Species_la'] == 'Abramis brama')]\n",
    "\n",
    "male_l = len(elevation_df.loc[(elevation_df['Location'] == 'Lower') & (elevation_df['sex'] == 1)])\n",
    "male_u = len(elevation_df.loc[(elevation_df['Location'] == 'Upper') & (elevation_df['sex'] == 1)])\n",
    "fm_l = len(elevation_df.loc[(elevation_df['Location'] == 'Lower') & (elevation_df['sex'] == 2)])\n",
    "fm_u = len(elevation_df.loc[(elevation_df['Location'] == 'Upper') & (elevation_df['sex'] == 2)])\n",
    "\n",
    "cont_df = {'Lower': [male_l, fm_l], 'Upper': [male_u, fm_u]}\n",
    "\n",
    "cdf = pd.DataFrame(cont_df, index=['Male', 'Female'])"
   ]
  },
  {
   "cell_type": "code",
   "execution_count": 30,
   "id": "123f2be1-2069-450a-9611-08cc58c0f145",
   "metadata": {},
   "outputs": [],
   "source": [
    "a = cdf.iloc[0,0]\n",
    "b = cdf.iloc[0,1]\n",
    "c = cdf.iloc[1,0]\n",
    "d = cdf.iloc[1,1]\n",
    "\n",
    "p1 = a/b\n",
    "p2 = c/d"
   ]
  },
  {
   "cell_type": "code",
   "execution_count": 31,
   "id": "dd97476b-7ade-4d34-a8cf-885bed769a15",
   "metadata": {},
   "outputs": [
    {
     "data": {
      "text/html": [
       "<div>\n",
       "<style scoped>\n",
       "    .dataframe tbody tr th:only-of-type {\n",
       "        vertical-align: middle;\n",
       "    }\n",
       "\n",
       "    .dataframe tbody tr th {\n",
       "        vertical-align: top;\n",
       "    }\n",
       "\n",
       "    .dataframe thead th {\n",
       "        text-align: right;\n",
       "    }\n",
       "</style>\n",
       "<table border=\"1\" class=\"dataframe\">\n",
       "  <thead>\n",
       "    <tr style=\"text-align: right;\">\n",
       "      <th></th>\n",
       "      <th>Lower</th>\n",
       "      <th>Upper</th>\n",
       "    </tr>\n",
       "  </thead>\n",
       "  <tbody>\n",
       "    <tr>\n",
       "      <th>Male</th>\n",
       "      <td>9</td>\n",
       "      <td>29</td>\n",
       "    </tr>\n",
       "    <tr>\n",
       "      <th>Female</th>\n",
       "      <td>7</td>\n",
       "      <td>18</td>\n",
       "    </tr>\n",
       "  </tbody>\n",
       "</table>\n",
       "</div>"
      ],
      "text/plain": [
       "        Lower  Upper\n",
       "Male        9     29\n",
       "Female      7     18"
      ]
     },
     "execution_count": 31,
     "metadata": {},
     "output_type": "execute_result"
    }
   ],
   "source": [
    "cdf"
   ]
  },
  {
   "cell_type": "markdown",
   "id": "ce66284b-c4b8-4714-98e8-294984f53a20",
   "metadata": {},
   "source": [
    "The table shows that there is partially insufficient data. In order to determine whether the requirements of the test we will apply for this comparison are met or not, a function has been developed based on Equation 13.1 on page 637 of our textbook."
   ]
  },
  {
   "cell_type": "code",
   "execution_count": 32,
   "id": "4d1c2ea8-efec-4de4-aa97-f022f246b936",
   "metadata": {},
   "outputs": [
    {
     "name": "stdout",
     "output_type": "stream",
     "text": [
      "n1.p1.q1: 6.86842105263158\n",
      "n2.p2.q2: 5.04\n",
      "Interval estimation can be produced\n"
     ]
    }
   ],
   "source": [
    "def prop_CI(df):\n",
    "    a = df.iloc[0, 0]\n",
    "    b = df.iloc[0, 1]\n",
    "    c = df.iloc[1, 0]\n",
    "    d = df.iloc[1, 1]\n",
    "\n",
    "    p1 = a / (a + b)\n",
    "    p2 = c / (c + d)\n",
    "\n",
    "    n1 = a + b\n",
    "    n2 = c + d\n",
    "\n",
    "    q1 = 1 - p1\n",
    "    q2 = 1 - p2\n",
    "\n",
    "    test_condition1 = n1 * p1 * q1\n",
    "    test_condition2 = n2 * p2 * q2\n",
    "\n",
    "    if test_condition1 > 5 and test_condition2 > 5:\n",
    "        print(f\"n1.p1.q1: {test_condition1}\\nn2.p2.q2: {test_condition2}\\nInterval estimation can be produced\")\n",
    "    else:\n",
    "        print(\"The required condition for the test was not met\")\n",
    "\n",
    "prop_CI(cdf)"
   ]
  },
  {
   "cell_type": "markdown",
   "id": "cbb763b0-afb7-4788-ba44-d9ec21a8f983",
   "metadata": {},
   "source": [
    "We are defining a new function to compare population proportions. This function will provide us with a confidence interval for population proportions.\n",
    "\n",
    "We establish our hypothesis as follows:<br>\n",
    "$H_0:p_1 - p_2 = 0$<br>\n",
    "$H_0:p_1 - p_2 ≠ 0$$"
   ]
  },
  {
   "cell_type": "code",
   "execution_count": 33,
   "id": "5b3ead1e-d4fd-4576-97e9-554e88387902",
   "metadata": {},
   "outputs": [],
   "source": [
    "def find_CI(df, alpha = 0.05):\n",
    "    a = df.iloc[0, 0]\n",
    "    b = df.iloc[0, 1]\n",
    "    c = df.iloc[1, 0]\n",
    "    d = df.iloc[1, 1]\n",
    "\n",
    "    p1 = a / (a + b)\n",
    "    p2 = c / (c + d)\n",
    "\n",
    "    n1 = a + b\n",
    "    n2 = c + d\n",
    "\n",
    "    q1 = 1 - p1\n",
    "    q2 = 1 - p2\n",
    "\n",
    "    alpha_half = alpha/2\n",
    "    z = stats.norm.ppf(1 - alpha_half)\n",
    "\n",
    "    c1 = (p1-p2) - (z*(sqrt((p1*q1)/n1)+((p2*q2)/n2)))\n",
    "    c2 = (p1-p2) + (z*(sqrt((p1*q1)/n1)+((p2*q2)/n2)))\n",
    "    print(f\"100%(1-{alpha}) CI: ({c1:.3f}, {c2:.3f})\")"
   ]
  },
  {
   "cell_type": "code",
   "execution_count": 34,
   "id": "582663b2-21e4-4029-80d3-d3868235682e",
   "metadata": {},
   "outputs": [
    {
     "name": "stdout",
     "output_type": "stream",
     "text": [
      "100%(1-0.05) CI: (-0.194, 0.108)\n"
     ]
    }
   ],
   "source": [
    "find_CI(cdf)"
   ]
  },
  {
   "cell_type": "markdown",
   "id": "42b23a32-5aeb-4903-a248-f040184b02d1",
   "metadata": {},
   "source": [
    "The confidence interval for population means includes the value 0. The null hypothesis ($H_0$) is rejected. There is no significant difference found in the surface or deeper areas of the lake in terms of the presence rates of Abramis brama fish based on their genders.\n"
   ]
  },
  {
   "cell_type": "code",
   "execution_count": null,
   "id": "043f38dd-0163-4f74-9bdf-50e7e6566f95",
   "metadata": {},
   "outputs": [],
   "source": []
  }
 ],
 "metadata": {
  "kernelspec": {
   "display_name": "Python 3 (ipykernel)",
   "language": "python",
   "name": "python3"
  },
  "language_info": {
   "codemirror_mode": {
    "name": "ipython",
    "version": 3
   },
   "file_extension": ".py",
   "mimetype": "text/x-python",
   "name": "python",
   "nbconvert_exporter": "python",
   "pygments_lexer": "ipython3",
   "version": "3.11.7"
  }
 },
 "nbformat": 4,
 "nbformat_minor": 5
}
